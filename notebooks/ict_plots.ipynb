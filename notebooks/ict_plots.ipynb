{
 "cells": [
  {
   "cell_type": "code",
   "execution_count": null,
   "metadata": {},
   "outputs": [],
   "source": [
    "import numpy as np\n",
    "import matplotlib.pyplot as plt\n",
    "from scipy.stats import norm\n",
    "\n",
    "\n",
    "rho = 7.0\n",
    "sigma_min = 0.002\n",
    "sigma_max = 80.0\n",
    "std = 2.0\n",
    "mean = -1.1\n",
    "\n",
    "log_sigmas = np.linspace(np.log(sigma_min), np.log(sigma_max), 1000)\n",
    "sigmas = np.exp(log_sigmas)\n",
    "\n",
    "sigmas_term = sigmas * (sigmas ** (1.0 / rho - 1.0))\n",
    "pdf = sigmas_term / (rho * (sigma_max ** (1.0 / rho) - sigma_min ** (1.0 / rho)))\n",
    "\n",
    "mean = -1.1\n",
    "std = 2.0\n",
    "improved_pdf = norm.pdf(log_sigmas, mean, std)\n",
    "\n",
    "\n",
    "plt.figure(figsize=(10, 6))\n",
    "plt.plot(sigmas, pdf, label='Baseline', color='g')\n",
    "plt.plot(sigmas, improved_pdf, label='Lognormal', color='orange')\n",
    "\n",
    "plt.xlabel(r\"$\\log\\sigma$\")\n",
    "plt.ylabel(\"PDF\")\n",
    "plt.xscale('log')\n",
    "plt.legend()\n",
    "plt.grid(True, which=\"both\", ls=\"--\")\n",
    "plt.show()"
   ]
  },
  {
   "cell_type": "code",
   "execution_count": null,
   "metadata": {},
   "outputs": [],
   "source": [
    "import matplotlib.pyplot as plt\n",
    "\n",
    "def squared_l2_loss(x: jax.Array, y: jax.Array):\n",
    "    return (x - y) ** 2\n",
    "\n",
    "fig, axs = plt.subplots()\n",
    "x = jnp.linspace(-0.4, 0.4, 100)\n",
    "\n",
    "for c_data in [0.001, 0.003, 0.01, 0.03, 0.1]:\n",
    "    phl = pseudo_huber_loss(jnp.repeat(0.0, len(x)), x, c_data)\n",
    "    axs.plot(x, phl, label=f'c = {c_data}')\n",
    "\n",
    "axs.plot(x, squared_l2_loss(x, jnp.repeat(0.0, len(x))), label=\"squared $\\ell_2$\")\n",
    "\n",
    "print(pseudo_huber_loss(jnp.array(0.0), jnp.array(0.4), 0.001))\n",
    "\n",
    "axs.legend()\n",
    "plt.show()"
   ]
  }
 ],
 "metadata": {
  "language_info": {
   "name": "python"
  }
 },
 "nbformat": 4,
 "nbformat_minor": 2
}
