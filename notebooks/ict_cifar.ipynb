{
 "cells": [
  {
   "cell_type": "markdown",
   "metadata": {},
   "source": [
    "# Improved Consistency Training on CIFAR-10\n",
    "\n",
    "[![arXiv](https://img.shields.io/badge/arXiv-2310.14189-b31b1b.svg)](https://arxiv.org/abs/2310.14189)\n",
    "<a target=\"_blank\" href=\"https://colab.research.google.com/github/leakedweights/mincy/blob/main/notebooks/ict_cifar.ipynb\">\n",
    "  <img src=\"https://colab.research.google.com/assets/colab-badge.svg\" alt=\"Open In Colab\"/>\n",
    "</a>\n",
    "\n",
    "JAX & Flax implementation of [Improved Consistency Training](https://arxiv.org/abs/2310.14189)."
   ]
  },
  {
   "cell_type": "markdown",
   "metadata": {},
   "source": [
    "## Setup"
   ]
  },
  {
   "cell_type": "code",
   "execution_count": 1,
   "metadata": {},
   "outputs": [],
   "source": [
    "%load_ext autoreload\n",
    "%autoreload 2"
   ]
  },
  {
   "cell_type": "code",
   "execution_count": null,
   "metadata": {},
   "outputs": [],
   "source": [
    "import os\n",
    "import sys\n",
    "\n",
    "!git clone https://github.com/leakedweights/mincy.git\n",
    "%pip install torch torchvision ipykernel einops wandb imageio\n",
    "%pip install --upgrade jax[tpu] jaxlib flax\n",
    "\n",
    "os.chdir('/content/mincy/notebooks')\n",
    "sys.path.append(os.path.abspath(os.path.join(os.getcwd(), '..')))"
   ]
  },
  {
   "cell_type": "code",
   "execution_count": 44,
   "metadata": {},
   "outputs": [],
   "source": [
    "import jax\n",
    "from jax import random\n",
    "import optax\n",
    "\n",
    "from torchvision.datasets import CIFAR10\n",
    "from torch.utils.data import DataLoader\n",
    "\n",
    "from mincy.models.unet import UNet\n",
    "from mincy.configs.ict_cifar_config import cifar_config, cifar_trainer_config\n",
    "from mincy.configs.ict_config import consistency_config\n",
    "from mincy.training.trainer import ConsistencyTrainer\n",
    "from mincy.training.dataloader import *"
   ]
  },
  {
   "cell_type": "code",
   "execution_count": null,
   "metadata": {},
   "outputs": [],
   "source": [
    "from google.colab import drive\n",
    "drive.mount('/content/drive/')\n",
    "drive_base_dir = \"/content/drive/MyDrive/mincy\"\n",
    "\n",
    "if not(os.path.exists(drive_base_dir)):\n",
    "    os.makedirs(drive_base_dir)\n",
    "\n",
    "cifar_trainer_config[\"checkpoint_dir\"] = f\"{drive_base_dir}/checkpoints\"\n",
    "cifar_trainer_config[\"snapshot_dir\"] = f\"{drive_base_dir}/samples\""
   ]
  },
  {
   "cell_type": "code",
   "execution_count": null,
   "metadata": {},
   "outputs": [],
   "source": [
    "if not(os.path.exists(cifar_trainer_config[\"checkpoint_dir\"])):\n",
    "    os.makedirs(cifar_trainer_config[\"checkpoint_dir\"])\n",
    "\n",
    "if not(os.path.exists(cifar_trainer_config[\"sample_dir\"])):\n",
    "    os.makedirs(cifar_trainer_config[\"snapshot_dir\"])"
   ]
  },
  {
   "cell_type": "code",
   "execution_count": 18,
   "metadata": {},
   "outputs": [
    {
     "name": "stdout",
     "output_type": "stream",
     "text": [
      "Files already downloaded and verified\n"
     ]
    }
   ],
   "source": [
    "batch_size = 64\n",
    "dataset = CIFAR10('/tmp/cifar', download=True, transform=transform)\n",
    "dataloader = DataLoader(dataset=dataset,\n",
    "                         batch_size=batch_size,\n",
    "                         shuffle=True,\n",
    "                         collate_fn=numpy_collate,\n",
    "                         drop_last=True)"
   ]
  },
  {
   "cell_type": "code",
   "execution_count": 45,
   "metadata": {},
   "outputs": [],
   "source": [
    "training_key = random.PRNGKey(0)\n",
    "model = UNet(**cifar_config)\n",
    "optimizer = optax.radam(cifar_trainer_config[\"learning_rate\"])\n",
    "\n",
    "trainer = ConsistencyTrainer(random_key=training_key,\n",
    "                             model=model,\n",
    "                             optimizer=optimizer,\n",
    "                             dataloader=dataloader,\n",
    "                             img_shape=(32, 32, 3),\n",
    "                             num_devices=jax.local_device_count(),\n",
    "                             config=cifar_trainer_config,\n",
    "                             consistency_config=consistency_config)"
   ]
  },
  {
   "cell_type": "code",
   "execution_count": 40,
   "metadata": {},
   "outputs": [
    {
     "name": "stderr",
     "output_type": "stream",
     "text": [
      "  0%|          | 0/400000 [00:00<?, ?it/s]\n"
     ]
    },
    {
     "ename": "AttributeError",
     "evalue": "DynamicJaxprTracer has no attribute items",
     "output_type": "error",
     "traceback": [
      "\u001b[0;31m---------------------------------------------------------------------------\u001b[0m",
      "\u001b[0;31mAttributeError\u001b[0m                            Traceback (most recent call last)",
      "File \u001b[0;32m~/projects/mincy/.venv/lib/python3.10/site-packages/jax/_src/core.py:789\u001b[0m, in \u001b[0;36mTracer.__getattr__\u001b[0;34m(self, name)\u001b[0m\n\u001b[1;32m    788\u001b[0m \u001b[38;5;28;01mtry\u001b[39;00m:\n\u001b[0;32m--> 789\u001b[0m   attr \u001b[38;5;241m=\u001b[39m \u001b[38;5;28;43mgetattr\u001b[39;49m\u001b[43m(\u001b[49m\u001b[38;5;28;43mself\u001b[39;49m\u001b[38;5;241;43m.\u001b[39;49m\u001b[43maval\u001b[49m\u001b[43m,\u001b[49m\u001b[43m \u001b[49m\u001b[43mname\u001b[49m\u001b[43m)\u001b[49m\n\u001b[1;32m    790\u001b[0m \u001b[38;5;28;01mexcept\u001b[39;00m \u001b[38;5;167;01mAttributeError\u001b[39;00m \u001b[38;5;28;01mas\u001b[39;00m err:\n",
      "\u001b[0;31mAttributeError\u001b[0m: 'ShapedArray' object has no attribute 'items'",
      "\nThe above exception was the direct cause of the following exception:\n",
      "\u001b[0;31mAttributeError\u001b[0m                            Traceback (most recent call last)",
      "Cell \u001b[0;32mIn[40], line 1\u001b[0m\n\u001b[0;32m----> 1\u001b[0m \u001b[43mtrainer\u001b[49m\u001b[38;5;241;43m.\u001b[39;49m\u001b[43mtrain\u001b[49m\u001b[43m(\u001b[49m\u001b[38;5;241;43m400_000\u001b[39;49m\u001b[43m)\u001b[49m\n",
      "File \u001b[0;32m~/projects/mincy/mincy/training/trainer.py:104\u001b[0m, in \u001b[0;36mConsistencyTrainer.train\u001b[0;34m(self, train_steps)\u001b[0m\n\u001b[1;32m     98\u001b[0m noise_levels \u001b[38;5;241m=\u001b[39m karras_levels(\n\u001b[1;32m     99\u001b[0m     N, consistency_config[\u001b[38;5;124m\"\u001b[39m\u001b[38;5;124msigma_min\u001b[39m\u001b[38;5;124m\"\u001b[39m], consistency_config[\u001b[38;5;124m\"\u001b[39m\u001b[38;5;124msigma_max\u001b[39m\u001b[38;5;124m\"\u001b[39m], consistency_config[\u001b[38;5;124m\"\u001b[39m\u001b[38;5;124mrho\u001b[39m\u001b[38;5;124m\"\u001b[39m])\n\u001b[1;32m    101\u001b[0m t1, t2 \u001b[38;5;241m=\u001b[39m sample_timesteps(\n\u001b[1;32m    102\u001b[0m     schedule_key, noise_levels, x_parallel\u001b[38;5;241m.\u001b[39mshape[:\u001b[38;5;241m2\u001b[39m], consistency_config[\u001b[38;5;124m\"\u001b[39m\u001b[38;5;124mp_mean\u001b[39m\u001b[38;5;124m\"\u001b[39m], consistency_config[\u001b[38;5;124m\"\u001b[39m\u001b[38;5;124mp_std\u001b[39m\u001b[38;5;124m\"\u001b[39m])\n\u001b[0;32m--> 104\u001b[0m parallel_state, loss \u001b[38;5;241m=\u001b[39m \u001b[43mtrain_step\u001b[49m\u001b[43m(\u001b[49m\n\u001b[1;32m    105\u001b[0m \u001b[43m    \u001b[49m\u001b[43mdevice_keys\u001b[49m\u001b[43m,\u001b[49m\u001b[43m \u001b[49m\u001b[43mparallel_state\u001b[49m\u001b[43m,\u001b[49m\u001b[43m \u001b[49m\u001b[43mx_parallel\u001b[49m\u001b[43m,\u001b[49m\u001b[43m \u001b[49m\u001b[43my_parallel\u001b[49m\u001b[43m,\u001b[49m\u001b[43m \u001b[49m\u001b[43mt1\u001b[49m\u001b[43m,\u001b[49m\u001b[43m \u001b[49m\u001b[43mt2\u001b[49m\u001b[43m,\u001b[49m\u001b[43m \u001b[49m\u001b[43mconsistency_config\u001b[49m\u001b[43m)\u001b[49m\n\u001b[1;32m    107\u001b[0m steps\u001b[38;5;241m.\u001b[39mset_postfix(loss\u001b[38;5;241m=\u001b[39munreplicate(loss))\n",
      "    \u001b[0;31m[... skipping hidden 12 frame]\u001b[0m\n",
      "File \u001b[0;32m~/projects/mincy/mincy/training/trainer.py:25\u001b[0m, in \u001b[0;36mtrain_step\u001b[0;34m(random_key, state, x, y, t1, t2, config)\u001b[0m\n\u001b[1;32m     21\u001b[0m c_data \u001b[38;5;241m=\u001b[39m config[\u001b[38;5;124m\"\u001b[39m\u001b[38;5;124mhuber_const\u001b[39m\u001b[38;5;124m\"\u001b[39m] \u001b[38;5;241m*\u001b[39m jnp\u001b[38;5;241m.\u001b[39msqrt(data_dim)\n\u001b[1;32m     23\u001b[0m noise \u001b[38;5;241m=\u001b[39m random\u001b[38;5;241m.\u001b[39mnormal(random_key, x\u001b[38;5;241m.\u001b[39mshape)\n\u001b[0;32m---> 25\u001b[0m xt1, xt2 \u001b[38;5;241m=\u001b[39m \u001b[43mtraining_consistency\u001b[49m\u001b[43m(\u001b[49m\n\u001b[1;32m     26\u001b[0m \u001b[43m    \u001b[49m\u001b[43mt1\u001b[49m\u001b[43m,\u001b[49m\n\u001b[1;32m     27\u001b[0m \u001b[43m    \u001b[49m\u001b[43mt2\u001b[49m\u001b[43m,\u001b[49m\n\u001b[1;32m     28\u001b[0m \u001b[43m    \u001b[49m\u001b[43mx\u001b[49m\u001b[43m,\u001b[49m\n\u001b[1;32m     29\u001b[0m \u001b[43m    \u001b[49m\u001b[43mnoise\u001b[49m\u001b[43m,\u001b[49m\n\u001b[1;32m     30\u001b[0m \u001b[43m    \u001b[49m\u001b[43mstate\u001b[49m\u001b[43m,\u001b[49m\n\u001b[1;32m     31\u001b[0m \u001b[43m    \u001b[49m\u001b[43mconfig\u001b[49m\u001b[43m[\u001b[49m\u001b[38;5;124;43m\"\u001b[39;49m\u001b[38;5;124;43msigma_data\u001b[39;49m\u001b[38;5;124;43m\"\u001b[39;49m\u001b[43m]\u001b[49m\u001b[43m,\u001b[49m\n\u001b[1;32m     32\u001b[0m \u001b[43m    \u001b[49m\u001b[43mconfig\u001b[49m\u001b[43m[\u001b[49m\u001b[38;5;124;43m\"\u001b[39;49m\u001b[38;5;124;43msigma_min\u001b[39;49m\u001b[38;5;124;43m\"\u001b[39;49m\u001b[43m]\u001b[49m\n\u001b[1;32m     33\u001b[0m \u001b[43m\u001b[49m\u001b[43m)\u001b[49m\n\u001b[1;32m     35\u001b[0m loss, grads \u001b[38;5;241m=\u001b[39m jax\u001b[38;5;241m.\u001b[39mvalue_and_grad(\n\u001b[1;32m     36\u001b[0m     pseudo_huber_loss)(xt1, xt2, c_data\u001b[38;5;241m=\u001b[39mc_data)\n\u001b[1;32m     37\u001b[0m loss \u001b[38;5;241m=\u001b[39m jax\u001b[38;5;241m.\u001b[39mlax\u001b[38;5;241m.\u001b[39mpmean(loss, \u001b[38;5;124m\"\u001b[39m\u001b[38;5;124mbatch\u001b[39m\u001b[38;5;124m\"\u001b[39m)\n",
      "    \u001b[0;31m[... skipping hidden 11 frame]\u001b[0m\n",
      "File \u001b[0;32m~/projects/mincy/mincy/models/consistency.py:45\u001b[0m, in \u001b[0;36mtraining_consistency\u001b[0;34m(t1, t2, x0, noise, state, sigma_data, sigma_min)\u001b[0m\n\u001b[1;32m     42\u001b[0m xt1 \u001b[38;5;241m=\u001b[39m x0 \u001b[38;5;241m+\u001b[39m t1_noise_dim \u001b[38;5;241m*\u001b[39m noise\n\u001b[1;32m     43\u001b[0m xt2 \u001b[38;5;241m=\u001b[39m euler(xt1, t1_noise_dim, t2_noise_dim, x0)\n\u001b[0;32m---> 45\u001b[0m _, xt1_consistency \u001b[38;5;241m=\u001b[39m \u001b[43mconsistency_fn\u001b[49m\u001b[43m(\u001b[49m\n\u001b[1;32m     46\u001b[0m \u001b[43m    \u001b[49m\u001b[43mxt1\u001b[49m\u001b[43m,\u001b[49m\u001b[43m \u001b[49m\u001b[43mt1\u001b[49m\u001b[43m,\u001b[49m\u001b[43m \u001b[49m\u001b[43msigma_data\u001b[49m\u001b[43m,\u001b[49m\u001b[43m \u001b[49m\u001b[43msigma_min\u001b[49m\u001b[43m,\u001b[49m\u001b[43m \u001b[49m\u001b[43mstate\u001b[49m\u001b[43m)\u001b[49m\n\u001b[1;32m     47\u001b[0m _, xt2_consistency \u001b[38;5;241m=\u001b[39m consistency_fn(\n\u001b[1;32m     48\u001b[0m     xt2, t2, sigma_data, sigma_min, state)\n\u001b[1;32m     50\u001b[0m \u001b[38;5;28;01mreturn\u001b[39;00m xt1_consistency, xt2_consistency\n",
      "File \u001b[0;32m~/projects/mincy/mincy/models/consistency.py:29\u001b[0m, in \u001b[0;36mconsistency_fn\u001b[0;34m(xt, sigma, sigma_data, sigma_min, state)\u001b[0m\n\u001b[1;32m     26\u001b[0m cskip \u001b[38;5;241m=\u001b[39m cast_dim(cskip, xt\u001b[38;5;241m.\u001b[39mndim)\n\u001b[1;32m     28\u001b[0m scaled_sigma \u001b[38;5;241m=\u001b[39m \u001b[38;5;241m1e4\u001b[39m \u001b[38;5;241m*\u001b[39m \u001b[38;5;241m0.25\u001b[39m \u001b[38;5;241m*\u001b[39m jnp\u001b[38;5;241m.\u001b[39mlog(sigma \u001b[38;5;241m+\u001b[39m \u001b[38;5;241m1e-44\u001b[39m)\n\u001b[0;32m---> 29\u001b[0m out \u001b[38;5;241m=\u001b[39m \u001b[43mstate\u001b[49m\u001b[38;5;241;43m.\u001b[39;49m\u001b[43mapply_fn\u001b[49m\u001b[43m(\u001b[49m\u001b[43mcin\u001b[49m\u001b[43m \u001b[49m\u001b[38;5;241;43m*\u001b[39;49m\u001b[43m \u001b[49m\u001b[43mxt\u001b[49m\u001b[43m,\u001b[49m\u001b[43m \u001b[49m\u001b[43mscaled_sigma\u001b[49m\u001b[43m,\u001b[49m\u001b[43m \u001b[49m\u001b[43mparams\u001b[49m\u001b[38;5;241;43m=\u001b[39;49m\u001b[43mstate\u001b[49m\u001b[38;5;241;43m.\u001b[39;49m\u001b[43mparams\u001b[49m\u001b[43m)\u001b[49m\n\u001b[1;32m     30\u001b[0m consistency_out \u001b[38;5;241m=\u001b[39m cout \u001b[38;5;241m*\u001b[39m out \u001b[38;5;241m+\u001b[39m cskip \u001b[38;5;241m*\u001b[39m xt\n\u001b[1;32m     32\u001b[0m \u001b[38;5;28;01mreturn\u001b[39;00m out, consistency_out\n",
      "    \u001b[0;31m[... skipping hidden 5 frame]\u001b[0m\n",
      "File \u001b[0;32m~/projects/mincy/.venv/lib/python3.10/site-packages/jax/_src/core.py:791\u001b[0m, in \u001b[0;36mTracer.__getattr__\u001b[0;34m(self, name)\u001b[0m\n\u001b[1;32m    789\u001b[0m   attr \u001b[38;5;241m=\u001b[39m \u001b[38;5;28mgetattr\u001b[39m(\u001b[38;5;28mself\u001b[39m\u001b[38;5;241m.\u001b[39maval, name)\n\u001b[1;32m    790\u001b[0m \u001b[38;5;28;01mexcept\u001b[39;00m \u001b[38;5;167;01mAttributeError\u001b[39;00m \u001b[38;5;28;01mas\u001b[39;00m err:\n\u001b[0;32m--> 791\u001b[0m   \u001b[38;5;28;01mraise\u001b[39;00m \u001b[38;5;167;01mAttributeError\u001b[39;00m(\n\u001b[1;32m    792\u001b[0m       \u001b[38;5;124mf\u001b[39m\u001b[38;5;124m\"\u001b[39m\u001b[38;5;132;01m{\u001b[39;00m\u001b[38;5;28mself\u001b[39m\u001b[38;5;241m.\u001b[39m\u001b[38;5;18m__class__\u001b[39m\u001b[38;5;241m.\u001b[39m\u001b[38;5;18m__name__\u001b[39m\u001b[38;5;132;01m}\u001b[39;00m\u001b[38;5;124m has no attribute \u001b[39m\u001b[38;5;132;01m{\u001b[39;00mname\u001b[38;5;132;01m}\u001b[39;00m\u001b[38;5;124m\"\u001b[39m\n\u001b[1;32m    793\u001b[0m   ) \u001b[38;5;28;01mfrom\u001b[39;00m \u001b[38;5;21;01merr\u001b[39;00m\n\u001b[1;32m    794\u001b[0m \u001b[38;5;28;01melse\u001b[39;00m:\n\u001b[1;32m    795\u001b[0m   t \u001b[38;5;241m=\u001b[39m \u001b[38;5;28mtype\u001b[39m(attr)\n",
      "\u001b[0;31mAttributeError\u001b[0m: DynamicJaxprTracer has no attribute items"
     ]
    }
   ],
   "source": [
    "trainer.train(400_000)"
   ]
  }
 ],
 "metadata": {
  "kernelspec": {
   "display_name": ".venv",
   "language": "python",
   "name": "python3"
  },
  "language_info": {
   "codemirror_mode": {
    "name": "ipython",
    "version": 3
   },
   "file_extension": ".py",
   "mimetype": "text/x-python",
   "name": "python",
   "nbconvert_exporter": "python",
   "pygments_lexer": "ipython3",
   "version": "3.10.12"
  }
 },
 "nbformat": 4,
 "nbformat_minor": 2
}
