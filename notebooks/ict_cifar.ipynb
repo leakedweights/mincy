{
 "cells": [
  {
   "cell_type": "markdown",
   "metadata": {},
   "source": [
    "# Improved Consistency Training on CIFAR-10\n",
    "\n",
    "[![arXiv](https://img.shields.io/badge/arXiv-2310.14189-b31b1b.svg)](https://arxiv.org/abs/2310.14189)\n",
    "<a target=\"_blank\" href=\"https://colab.research.google.com/github/leakedweights/mincy/blob/main/notebooks/ict_cifar.ipynb\">\n",
    "  <img src=\"https://colab.research.google.com/assets/colab-badge.svg\" alt=\"Open In Colab\"/>\n",
    "</a>\n",
    "\n",
    "JAX & Flax implementation of [Improved Consistency Training](https://arxiv.org/abs/2310.14189)."
   ]
  },
  {
   "cell_type": "markdown",
   "metadata": {},
   "source": [
    "## Setup"
   ]
  },
  {
   "cell_type": "code",
   "execution_count": 1,
   "metadata": {},
   "outputs": [],
   "source": [
    "%load_ext autoreload\n",
    "%autoreload 2"
   ]
  },
  {
   "cell_type": "code",
   "execution_count": null,
   "metadata": {},
   "outputs": [],
   "source": [
    "import os\n",
    "import sys\n",
    "\n",
    "!git clone https://github.com/leakedweights/mincy.git\n",
    "%pip install torch torchvision ipykernel einops wandb imageio\n",
    "%pip install --upgrade jax[tpu] jaxlib flax\n",
    "\n",
    "os.chdir('/content/mincy/notebooks')\n",
    "sys.path.append(os.path.abspath(os.path.join(os.getcwd(), '..')))"
   ]
  },
  {
   "cell_type": "code",
   "execution_count": 2,
   "metadata": {},
   "outputs": [],
   "source": [
    "import os\n",
    "import sys\n",
    "\n",
    "sys.path.append(os.path.abspath(os.path.join(os.getcwd(), '..')))\n",
    "os.environ[\"XLA_FLAGS\"] = '--xla_force_host_platform_device_count=8'"
   ]
  },
  {
   "cell_type": "code",
   "execution_count": 41,
   "metadata": {},
   "outputs": [],
   "source": [
    "import jax\n",
    "from jax import random\n",
    "import optax\n",
    "\n",
    "from torchvision.datasets import CIFAR10\n",
    "from torch.utils.data import DataLoader\n",
    "\n",
    "from mincy.models.unet import UNet\n",
    "from mincy.configs.ict_cifar import cifar_config, cifar_trainer_config\n",
    "from mincy.configs.ict import consistency_config\n",
    "from mincy.training.trainer import ConsistencyTrainer\n",
    "from mincy.training.dataloader import *"
   ]
  },
  {
   "cell_type": "code",
   "execution_count": null,
   "metadata": {},
   "outputs": [],
   "source": [
    "from google.colab import drive\n",
    "drive.mount('/content/drive/')\n",
    "drive_base_dir = \"/content/drive/MyDrive/mincy\"\n",
    "\n",
    "if not(os.path.exists(drive_base_dir)):\n",
    "    os.makedirs(drive_base_dir)\n",
    "\n",
    "cifar_trainer_config[\"checkpoint_dir\"] = f\"{drive_base_dir}/checkpoints\"\n",
    "cifar_trainer_config[\"sample_dir\"] = f\"{drive_base_dir}/samples\""
   ]
  },
  {
   "cell_type": "code",
   "execution_count": null,
   "metadata": {},
   "outputs": [],
   "source": [
    "if not(os.path.exists(cifar_trainer_config[\"checkpoint_dir\"])):\n",
    "    os.makedirs(cifar_trainer_config[\"checkpoint_dir\"])\n",
    "\n",
    "if not(os.path.exists(cifar_trainer_config[\"sample_dir\"])):\n",
    "    os.makedirs(cifar_trainer_config[\"sample_dir\"])"
   ]
  },
  {
   "cell_type": "code",
   "execution_count": 6,
   "metadata": {},
   "outputs": [],
   "source": [
    "model = UNet(**cifar_config)\n",
    "\n",
    "key = random.key(0)\n",
    "img_shape = (32, 32, 3)\n",
    "batch_size = 64"
   ]
  },
  {
   "cell_type": "code",
   "execution_count": 32,
   "metadata": {},
   "outputs": [
    {
     "name": "stdout",
     "output_type": "stream",
     "text": [
      "Files already downloaded and verified\n"
     ]
    }
   ],
   "source": [
    "dataset = CIFAR10('/tmp/cifar', download=True, transform=transform)\n",
    "dataloader = DataLoader(dataset=dataset,\n",
    "                         batch_size=batch_size,\n",
    "                         shuffle=True,\n",
    "                         collate_fn=numpy_collate,\n",
    "                         drop_last=True)"
   ]
  },
  {
   "cell_type": "code",
   "execution_count": 42,
   "metadata": {},
   "outputs": [],
   "source": [
    "model = UNet(**cifar_config)\n",
    "optimizer = optax.radam(cifar_trainer_config[\"learning_rate\"])\n",
    "\n",
    "trainer = ConsistencyTrainer(random_key=random.PRNGKey(0),\n",
    "                             model=model,\n",
    "                             optimizer=optimizer,\n",
    "                             dataloader=dataloader,\n",
    "                             img_shape=(32, 32, 3),\n",
    "                             batch_size=256,\n",
    "                             num_devices=jax.local_device_count(),\n",
    "                             config=cifar_trainer_config,\n",
    "                             consistency_config=consistency_config)"
   ]
  },
  {
   "cell_type": "code",
   "execution_count": 43,
   "metadata": {},
   "outputs": [
    {
     "name": "stderr",
     "output_type": "stream",
     "text": [
      "  0%|          | 0/400000 [00:00<?, ?it/s]"
     ]
    },
    {
     "name": "stdout",
     "output_type": "stream",
     "text": [
      "device_key_shape = (8, 2)\n"
     ]
    },
    {
     "name": "stderr",
     "output_type": "stream",
     "text": [
      "\n"
     ]
    },
    {
     "ename": "ConcretizationTypeError",
     "evalue": "Abstract tracer value encountered where concrete value is expected: traced array with shape int32[].\nThe problem arose with the `int` function. If trying to convert the data type of a value, try using `x.astype(int)` or `jnp.array(x, int)` instead.\nThe error occurred while tracing the function discretize at /home/betonitcso/projects/mincy/mincy/components/schedule.py:9 for jit. This value became a tracer due to JAX operations on these lines:\n\n  operation a:f32[] = floor b\n    from line /home/betonitcso/projects/mincy/mincy/components/schedule.py:11 (discretize)\n\n  operation a:f32[] = log b\n    from line /home/betonitcso/projects/mincy/mincy/components/schedule.py:11 (discretize)\n\n  operation a:f32[] = convert_element_type[new_dtype=float32 weak_type=False] b\n    from line /home/betonitcso/projects/mincy/mincy/components/schedule.py:11 (discretize)\n\n  operation a:f32[] = convert_element_type[new_dtype=float32 weak_type=False] b\n    from line /home/betonitcso/projects/mincy/mincy/components/schedule.py:11 (discretize)\n\n  operation a:f32[] = convert_element_type[new_dtype=float32 weak_type=False] b\n    from line /home/betonitcso/projects/mincy/mincy/components/schedule.py:12 (discretize)\n\n(Additional originating lines are not shown.)\n\nSee https://jax.readthedocs.io/en/latest/errors.html#jax.errors.ConcretizationTypeError",
     "output_type": "error",
     "traceback": [
      "\u001b[0;31m---------------------------------------------------------------------------\u001b[0m",
      "\u001b[0;31mConcretizationTypeError\u001b[0m                   Traceback (most recent call last)",
      "Cell \u001b[0;32mIn[43], line 1\u001b[0m\n\u001b[0;32m----> 1\u001b[0m \u001b[43mtrainer\u001b[49m\u001b[38;5;241;43m.\u001b[39;49m\u001b[43mtrain\u001b[49m\u001b[43m(\u001b[49m\u001b[38;5;241;43m400_000\u001b[39;49m\u001b[43m)\u001b[49m\n",
      "File \u001b[0;32m~/projects/mincy/mincy/training/trainer.py:111\u001b[0m, in \u001b[0;36mConsistencyTrainer.train\u001b[0;34m(self, train_steps)\u001b[0m\n\u001b[1;32m    106\u001b[0m consistency_config \u001b[38;5;241m=\u001b[39m FrozenDict(\u001b[38;5;28mself\u001b[39m\u001b[38;5;241m.\u001b[39mconsistency_config)\n\u001b[1;32m    108\u001b[0m jax\u001b[38;5;241m.\u001b[39mdebug\u001b[38;5;241m.\u001b[39mprint(\u001b[38;5;124m'\u001b[39m\u001b[38;5;124mdevice_key_shape = \u001b[39m\u001b[38;5;132;01m{device_key_shape}\u001b[39;00m\u001b[38;5;124m'\u001b[39m, device_key_shape\u001b[38;5;241m=\u001b[39mjnp\u001b[38;5;241m.\u001b[39marray(\n\u001b[1;32m    109\u001b[0m     device_keys)\u001b[38;5;241m.\u001b[39mshape)\n\u001b[0;32m--> 111\u001b[0m parallel_state, loss \u001b[38;5;241m=\u001b[39m \u001b[38;5;28;43mself\u001b[39;49m\u001b[38;5;241;43m.\u001b[39;49m\u001b[43mtrain_step\u001b[49m\u001b[43m(\u001b[49m\u001b[43mjnp\u001b[49m\u001b[38;5;241;43m.\u001b[39;49m\u001b[43marray\u001b[49m\u001b[43m(\u001b[49m\n\u001b[1;32m    112\u001b[0m \u001b[43m    \u001b[49m\u001b[43mdevice_keys\u001b[49m\u001b[43m)\u001b[49m\u001b[43m,\u001b[49m\u001b[43m \u001b[49m\u001b[43mparallel_state\u001b[49m\u001b[43m,\u001b[49m\u001b[43m \u001b[49m\u001b[43mx_parallel\u001b[49m\u001b[43m,\u001b[49m\u001b[43m \u001b[49m\u001b[43my_parallel\u001b[49m\u001b[43m,\u001b[49m\u001b[43m \u001b[49m\u001b[43mreplicate\u001b[49m\u001b[43m(\u001b[49m\u001b[43mstep\u001b[49m\u001b[43m)\u001b[49m\u001b[43m,\u001b[49m\u001b[43m \u001b[49m\u001b[43mtrain_steps\u001b[49m\u001b[43m,\u001b[49m\u001b[43m \u001b[49m\u001b[43mconsistency_config\u001b[49m\u001b[43m)\u001b[49m\n\u001b[1;32m    114\u001b[0m steps\u001b[38;5;241m.\u001b[39mset_postfix(loss\u001b[38;5;241m=\u001b[39munreplicate(loss))\n",
      "    \u001b[0;31m[... skipping hidden 12 frame]\u001b[0m\n",
      "File \u001b[0;32m~/projects/mincy/mincy/training/trainer.py:57\u001b[0m, in \u001b[0;36mConsistencyTrainer.train_step\u001b[0;34m(random_key, state, x, y, step, max_steps, config)\u001b[0m\n\u001b[1;32m     54\u001b[0m data_dim \u001b[38;5;241m=\u001b[39m jnp\u001b[38;5;241m.\u001b[39mprod(jnp\u001b[38;5;241m.\u001b[39marray(x\u001b[38;5;241m.\u001b[39mshape[\u001b[38;5;241m1\u001b[39m:]))\n\u001b[1;32m     55\u001b[0m c_data \u001b[38;5;241m=\u001b[39m config[\u001b[38;5;124m\"\u001b[39m\u001b[38;5;124mhuber_const\u001b[39m\u001b[38;5;124m\"\u001b[39m] \u001b[38;5;241m*\u001b[39m jnp\u001b[38;5;241m.\u001b[39msqrt(data_dim)\n\u001b[0;32m---> 57\u001b[0m N \u001b[38;5;241m=\u001b[39m \u001b[43mdiscretize\u001b[49m\u001b[43m(\u001b[49m\u001b[43mstep\u001b[49m\u001b[43m,\u001b[49m\u001b[43m \u001b[49m\u001b[43mconfig\u001b[49m\u001b[43m[\u001b[49m\u001b[38;5;124;43m\"\u001b[39;49m\u001b[38;5;124;43ms0\u001b[39;49m\u001b[38;5;124;43m\"\u001b[39;49m\u001b[43m]\u001b[49m\u001b[43m,\u001b[49m\u001b[43m \u001b[49m\u001b[43mconfig\u001b[49m\u001b[43m[\u001b[49m\u001b[38;5;124;43m\"\u001b[39;49m\u001b[38;5;124;43ms1\u001b[39;49m\u001b[38;5;124;43m\"\u001b[39;49m\u001b[43m]\u001b[49m\u001b[43m,\u001b[49m\u001b[43m \u001b[49m\u001b[43mmax_steps\u001b[49m\u001b[43m)\u001b[49m\n\u001b[1;32m     59\u001b[0m levels \u001b[38;5;241m=\u001b[39m [karras_levels(\n\u001b[1;32m     60\u001b[0m     i, N, config[\u001b[38;5;124m\"\u001b[39m\u001b[38;5;124msigma_max\u001b[39m\u001b[38;5;124m\"\u001b[39m], config[\u001b[38;5;124m\"\u001b[39m\u001b[38;5;124mrho\u001b[39m\u001b[38;5;124m\"\u001b[39m], config[\u001b[38;5;124m\"\u001b[39m\u001b[38;5;124msigma_max\u001b[39m\u001b[38;5;124m\"\u001b[39m], config[\u001b[38;5;124m\"\u001b[39m\u001b[38;5;124mrho\u001b[39m\u001b[38;5;124m\"\u001b[39m]) \u001b[38;5;28;01mfor\u001b[39;00m i \u001b[38;5;129;01min\u001b[39;00m \u001b[38;5;28mrange\u001b[39m(\u001b[38;5;241m1\u001b[39m, \u001b[38;5;28mint\u001b[39m)]\n\u001b[1;32m     62\u001b[0m t1, t2 \u001b[38;5;241m=\u001b[39m sample_timesteps(\n\u001b[1;32m     63\u001b[0m     timestep_key, levels, x\u001b[38;5;241m.\u001b[39mshape[:\u001b[38;5;241m1\u001b[39m], config[\u001b[38;5;124m\"\u001b[39m\u001b[38;5;124mp_mean\u001b[39m\u001b[38;5;124m\"\u001b[39m], config[\u001b[38;5;124m\"\u001b[39m\u001b[38;5;124mp_std\u001b[39m\u001b[38;5;124m\"\u001b[39m])\n",
      "    \u001b[0;31m[... skipping hidden 11 frame]\u001b[0m\n",
      "File \u001b[0;32m~/projects/mincy/mincy/components/schedule.py:14\u001b[0m, in \u001b[0;36mdiscretize\u001b[0;34m(step, s0, s1, max_steps)\u001b[0m\n\u001b[1;32m     12\u001b[0m N \u001b[38;5;241m=\u001b[39m s0 \u001b[38;5;241m*\u001b[39m jnp\u001b[38;5;241m.\u001b[39mpow(\u001b[38;5;241m2\u001b[39m, jnp\u001b[38;5;241m.\u001b[39mfloor(step \u001b[38;5;241m/\u001b[39m k_prime))\n\u001b[1;32m     13\u001b[0m N \u001b[38;5;241m=\u001b[39m jnp\u001b[38;5;241m.\u001b[39mmin(jnp\u001b[38;5;241m.\u001b[39marray([N, s1]))\u001b[38;5;241m.\u001b[39mastype(\u001b[38;5;28mint\u001b[39m)\n\u001b[0;32m---> 14\u001b[0m \u001b[38;5;28;01mreturn\u001b[39;00m \u001b[38;5;28;43mint\u001b[39;49m\u001b[43m(\u001b[49m\u001b[43mN\u001b[49m\u001b[43m \u001b[49m\u001b[38;5;241;43m+\u001b[39;49m\u001b[43m \u001b[49m\u001b[38;5;241;43m1\u001b[39;49m\u001b[43m)\u001b[49m\n",
      "    \u001b[0;31m[... skipping hidden 1 frame]\u001b[0m\n",
      "File \u001b[0;32m~/projects/mincy/.venv/lib/python3.10/site-packages/jax/_src/core.py:1498\u001b[0m, in \u001b[0;36mconcretization_function_error.<locals>.error\u001b[0;34m(self, arg)\u001b[0m\n\u001b[1;32m   1497\u001b[0m \u001b[38;5;28;01mdef\u001b[39;00m \u001b[38;5;21merror\u001b[39m(\u001b[38;5;28mself\u001b[39m, arg):\n\u001b[0;32m-> 1498\u001b[0m   \u001b[38;5;28;01mraise\u001b[39;00m ConcretizationTypeError(arg, fname_context)\n",
      "\u001b[0;31mConcretizationTypeError\u001b[0m: Abstract tracer value encountered where concrete value is expected: traced array with shape int32[].\nThe problem arose with the `int` function. If trying to convert the data type of a value, try using `x.astype(int)` or `jnp.array(x, int)` instead.\nThe error occurred while tracing the function discretize at /home/betonitcso/projects/mincy/mincy/components/schedule.py:9 for jit. This value became a tracer due to JAX operations on these lines:\n\n  operation a:f32[] = floor b\n    from line /home/betonitcso/projects/mincy/mincy/components/schedule.py:11 (discretize)\n\n  operation a:f32[] = log b\n    from line /home/betonitcso/projects/mincy/mincy/components/schedule.py:11 (discretize)\n\n  operation a:f32[] = convert_element_type[new_dtype=float32 weak_type=False] b\n    from line /home/betonitcso/projects/mincy/mincy/components/schedule.py:11 (discretize)\n\n  operation a:f32[] = convert_element_type[new_dtype=float32 weak_type=False] b\n    from line /home/betonitcso/projects/mincy/mincy/components/schedule.py:11 (discretize)\n\n  operation a:f32[] = convert_element_type[new_dtype=float32 weak_type=False] b\n    from line /home/betonitcso/projects/mincy/mincy/components/schedule.py:12 (discretize)\n\n(Additional originating lines are not shown.)\n\nSee https://jax.readthedocs.io/en/latest/errors.html#jax.errors.ConcretizationTypeError"
     ]
    }
   ],
   "source": [
    "trainer.train(400_000)"
   ]
  },
  {
   "cell_type": "code",
   "execution_count": null,
   "metadata": {},
   "outputs": [],
   "source": []
  }
 ],
 "metadata": {
  "kernelspec": {
   "display_name": ".venv",
   "language": "python",
   "name": "python3"
  },
  "language_info": {
   "codemirror_mode": {
    "name": "ipython",
    "version": 3
   },
   "file_extension": ".py",
   "mimetype": "text/x-python",
   "name": "python",
   "nbconvert_exporter": "python",
   "pygments_lexer": "ipython3",
   "version": "3.10.12"
  }
 },
 "nbformat": 4,
 "nbformat_minor": 2
}
