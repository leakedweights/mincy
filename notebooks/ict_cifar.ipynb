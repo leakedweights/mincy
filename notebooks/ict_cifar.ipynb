{
 "cells": [
  {
   "cell_type": "markdown",
   "metadata": {},
   "source": [
    "# Improved Consistency Training on CIFAR-10\n",
    "\n",
    "[![arXiv](https://img.shields.io/badge/arXiv-2310.14189-b31b1b.svg)](https://arxiv.org/abs/2310.14189)\n",
    "<a target=\"_blank\" href=\"https://colab.research.google.com/github/leakedweights/mincy/blob/main/notebooks/ict_cifar.ipynb\">\n",
    "  <img src=\"https://colab.research.google.com/assets/colab-badge.svg\" alt=\"Open In Colab\"/>\n",
    "</a>\n",
    "\n",
    "JAX & Flax implementation of [Improved Consistency Training](https://arxiv.org/abs/2310.14189)."
   ]
  },
  {
   "cell_type": "markdown",
   "metadata": {},
   "source": [
    "## Setup"
   ]
  },
  {
   "cell_type": "code",
   "execution_count": 1,
   "metadata": {},
   "outputs": [],
   "source": [
    "%load_ext autoreload\n",
    "%autoreload 2"
   ]
  },
  {
   "cell_type": "code",
   "execution_count": null,
   "metadata": {},
   "outputs": [],
   "source": [
    "import os\n",
    "import sys\n",
    "\n",
    "!git clone https://github.com/leakedweights/mincy.git\n",
    "%pip install torch torchvision ipykernel einops wandb imageio clean-fid\n",
    "%pip install --upgrade jax[tpu] jaxlib flax\n",
    "\n",
    "os.chdir('/content/mincy/notebooks')\n",
    "sys.path.append(os.path.abspath(os.path.join(os.getcwd(), '..')))"
   ]
  },
  {
   "cell_type": "code",
   "execution_count": 44,
   "metadata": {},
   "outputs": [],
   "source": [
    "import jax\n",
    "from jax import random\n",
    "import optax\n",
    "\n",
    "from torchvision.datasets import CIFAR10\n",
    "from torch.utils.data import DataLoader\n",
    "\n",
    "import wandb\n",
    "\n",
    "from mincy.models.unet import UNet\n",
    "from mincy.configs.ict_cifar_config import cifar_config, cifar_trainer_config\n",
    "from mincy.configs.ict_config import consistency_config\n",
    "from mincy.training.trainer import ConsistencyTrainer\n",
    "from mincy.training.dataloader import *"
   ]
  },
  {
   "cell_type": "code",
   "execution_count": null,
   "metadata": {},
   "outputs": [],
   "source": [
    "from google.colab import drive\n",
    "drive.mount('/content/drive/')\n",
    "drive_base_dir = \"/content/drive/MyDrive/mincy\"\n",
    "\n",
    "if not(os.path.exists(drive_base_dir)):\n",
    "    os.makedirs(drive_base_dir)\n",
    "\n",
    "cifar_trainer_config[\"checkpoint_dir\"] = f\"{drive_base_dir}/checkpoints\"\n",
    "cifar_trainer_config[\"snapshot_dir\"] = f\"{drive_base_dir}/samples\""
   ]
  },
  {
   "cell_type": "code",
   "execution_count": null,
   "metadata": {},
   "outputs": [],
   "source": [
    "if not(os.path.exists(cifar_trainer_config[\"checkpoint_dir\"])):\n",
    "    os.makedirs(cifar_trainer_config[\"checkpoint_dir\"])\n",
    "\n",
    "if not(os.path.exists(cifar_trainer_config[\"snapshot_dir\"])):\n",
    "    os.makedirs(cifar_trainer_config[\"snapshot_dir\"])"
   ]
  },
  {
   "cell_type": "code",
   "execution_count": null,
   "metadata": {},
   "outputs": [],
   "source": [
    "batch_size = 512\n",
    "dataset = CIFAR10('/tmp/cifar', download=True, transform=transform)\n",
    "dataloader = DataLoader(dataset=dataset,\n",
    "                         batch_size=batch_size,\n",
    "                         shuffle=True,\n",
    "                         collate_fn=numpy_collate,\n",
    "                         drop_last=True)"
   ]
  },
  {
   "cell_type": "code",
   "execution_count": null,
   "metadata": {},
   "outputs": [],
   "source": [
    "run = wandb.init(\n",
    "    project=\"mincy-cifar\",\n",
    "    config={\n",
    "        \"model\": cifar_config,\n",
    "        \"trainer\": cifar_trainer_config\n",
    "    }\n",
    ")"
   ]
  },
  {
   "cell_type": "code",
   "execution_count": 45,
   "metadata": {},
   "outputs": [],
   "source": [
    "training_key = random.PRNGKey(0)\n",
    "model = UNet(**cifar_config)\n",
    "optimizer = optax.radam(cifar_trainer_config[\"learning_rate\"])\n",
    "\n",
    "trainer = ConsistencyTrainer(random_key=training_key,\n",
    "                             model=model,\n",
    "                             optimizer=optimizer,\n",
    "                             dataloader=dataloader,\n",
    "                             img_shape=(32, 32, 3),\n",
    "                             num_devices=jax.local_device_count(),\n",
    "                             config=cifar_trainer_config,\n",
    "                             consistency_config=consistency_config)"
   ]
  },
  {
   "cell_type": "code",
   "execution_count": null,
   "metadata": {},
   "outputs": [],
   "source": [
    "trainer.load_checkpoint()\n",
    "trainer.train(400_000)"
   ]
  }
 ],
 "metadata": {
  "kernelspec": {
   "display_name": ".venv",
   "language": "python",
   "name": "python3"
  },
  "language_info": {
   "codemirror_mode": {
    "name": "ipython",
    "version": 3
   },
   "file_extension": ".py",
   "mimetype": "text/x-python",
   "name": "python",
   "nbconvert_exporter": "python",
   "pygments_lexer": "ipython3",
   "version": "3.10.12"
  }
 },
 "nbformat": 4,
 "nbformat_minor": 2
}
